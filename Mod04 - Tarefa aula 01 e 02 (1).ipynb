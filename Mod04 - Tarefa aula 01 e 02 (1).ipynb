{
 "cells": [
  {
   "cell_type": "markdown",
   "metadata": {},
   "source": [
    "# Tarefa 01\n",
    "\n",
    "- Leia os enunciados com atenção\n",
    "- Saiba que pode haver mais de uma resposta correta\n",
    "- Insira novas células de código sempre que achar necessário\n",
    "- Em caso de dúvidas, procure os tutores\n",
    "- Divirta-se :)\n",
    "\n",
    "#### 1)  crie uma série do pandas a partir de uma lista com os dados abaixo:\n",
    "\n",
    "Em um estudo sobre alteração na tempreatura global, A NASA disponibiliza dados de diferenças de de temperatura média da superfície terrestre relativos às médias de temperatura entre 1951 e 1980. Os dados originais podem ser vistos no site da NASA/GISS, e estão dispostos a cada década na tabela abaixo.\n",
    "\n",
    "|ano|anomalia termica|\n",
    "|:-:|:----:|\n",
    "| 1900 | -0.08 |\n",
    "| 1920 | -0.27 |\n",
    "| 1940 | 0.12 |\n",
    "| 1960 | -0.03 |\n",
    "| 1980 | 0.26 |\n",
    "| 2000 | 0.40 |\n",
    "| 2020 | 1.02 |\n",
    "\n",
    "Crie uma séries do Pandas a partir de uma lista com esses dados."
   ]
  },
  {
   "cell_type": "code",
   "execution_count": 3,
   "metadata": {},
   "outputs": [
    {
     "name": "stdout",
     "output_type": "stream",
     "text": [
      "0   -0.08\n",
      "1   -0.27\n",
      "2    0.12\n",
      "3   -0.03\n",
      "4    0.26\n",
      "5    0.40\n",
      "6    1.02\n",
      "dtype: float64\n"
     ]
    }
   ],
   "source": [
    "import pandas as pd\n",
    "import numpy as np\n",
    "\n",
    "# Seu código aqui\n",
    "dados = [-0.08, -0.27, 0.12, -0.03, 0.26, 0.40, 1.02]\n",
    "serie = pd.Series(dados)\n",
    "print(serie)"
   ]
  },
  {
   "cell_type": "markdown",
   "metadata": {},
   "source": [
    "#### 2) Coloque os anos nos índices conforme a tabela."
   ]
  },
  {
   "cell_type": "code",
   "execution_count": 15,
   "metadata": {},
   "outputs": [
    {
     "name": "stdout",
     "output_type": "stream",
     "text": [
      "1900   -0.08\n",
      "1920   -0.27\n",
      "1940    0.12\n",
      "1960   -0.03\n",
      "1980    0.26\n",
      "2000    0.40\n",
      "2020    1.02\n",
      "dtype: float64\n"
     ]
    }
   ],
   "source": [
    "\n",
    "# seu código aqui\n",
    "anos = [1900, 1920, 1940, 1960, 1980, 2000, 2020]\n",
    "\n",
    "# Criando a série do pandas com ANOS como índice\n",
    "serie = pd.Series(dados, index=anos)\n",
    "print(serie)"
   ]
  },
  {
   "cell_type": "markdown",
   "metadata": {},
   "source": [
    "#### 3) A partir do dicionário abaixo, crie uma séries do Pandas:"
   ]
  },
  {
   "cell_type": "code",
   "execution_count": 17,
   "metadata": {},
   "outputs": [
    {
     "name": "stdout",
     "output_type": "stream",
     "text": [
      "1900   -0.08\n",
      "1920   -0.27\n",
      "1940    0.12\n",
      "1960   -0.03\n",
      "1980    0.26\n",
      "2000    0.40\n",
      "2020    1.02\n",
      "dtype: float64\n"
     ]
    }
   ],
   "source": [
    "dic_temperaturas = {1900: -.08, 1920: -.27, 1940: .12, 1960: -.03, 1980: .26, 2000: .40, 2020: 1.02}\n",
    "\n",
    "# seu código aqui\n",
    "serie_dict = pd.Series(dic_temperaturas)\n",
    "print(serie_dict)"
   ]
  },
  {
   "cell_type": "markdown",
   "metadata": {},
   "source": [
    "#### 4) Transforme o ndarray abaixo em um dataframe. \n",
    "O numpy é capaz de gerar arrays n-dimensionais com números pseudo-aleatórios de acordo com uma variedade de distribuições, como no exemplo abaixo. Transforme esse nd-array em um DataFrame."
   ]
  },
  {
   "cell_type": "code",
   "execution_count": 19,
   "metadata": {},
   "outputs": [
    {
     "name": "stdout",
     "output_type": "stream",
     "text": [
      "           0         1         2\n",
      "0   0.532381 -1.345329 -0.211733\n",
      "1   0.134557 -0.033358 -1.546800\n",
      "2   1.672722 -1.076166 -0.381525\n",
      "3  -0.370650 -0.042485  1.129979\n",
      "4   0.038073 -0.714844  1.674318\n",
      "5  -0.981982  0.898660  2.562705\n",
      "6   0.638933  0.253145 -0.512961\n",
      "7  -1.280150  0.709175 -0.496554\n",
      "8  -0.482586 -1.013052 -0.177883\n",
      "9  -1.951410 -0.220120 -1.633129\n",
      "10  0.707328  0.876420  1.987677\n",
      "11  0.166332  0.469429  0.928358\n",
      "12 -0.623680  0.836721  0.714167\n",
      "13  0.343979  1.082933 -0.568775\n",
      "14  0.552392 -0.142854 -1.250470\n",
      "15 -0.159875  2.008648 -1.039473\n",
      "16 -0.507626  0.535460  1.457047\n",
      "17  0.060518 -1.479110 -1.020170\n",
      "18  0.045452  0.245712 -0.271321\n",
      "19 -0.740128  0.187304  1.153476\n"
     ]
    }
   ],
   "source": [
    "arr = np.random.normal(100, 10, (20,3))\n",
    "\n",
    "# seu código aqui\n",
    "ndarray = np.random.randn(20, 3)\n",
    "\n",
    "# Transformando o ndarray em um DataFrame\n",
    "df = pd.DataFrame(ndarray)\n",
    "print(df)"
   ]
  },
  {
   "cell_type": "markdown",
   "metadata": {},
   "source": [
    "#### 5) Nomeie os índices das linhas com inteiros de 1 a 20, e as colunas com os nomes \"x1\", \"x2\", e \"x3\" respectivamente."
   ]
  },
  {
   "cell_type": "code",
   "execution_count": 21,
   "metadata": {},
   "outputs": [
    {
     "name": "stdout",
     "output_type": "stream",
     "text": [
      "          x1        x2        x3\n",
      "1   0.532381 -1.345329 -0.211733\n",
      "2   0.134557 -0.033358 -1.546800\n",
      "3   1.672722 -1.076166 -0.381525\n",
      "4  -0.370650 -0.042485  1.129979\n",
      "5   0.038073 -0.714844  1.674318\n",
      "6  -0.981982  0.898660  2.562705\n",
      "7   0.638933  0.253145 -0.512961\n",
      "8  -1.280150  0.709175 -0.496554\n",
      "9  -0.482586 -1.013052 -0.177883\n",
      "10 -1.951410 -0.220120 -1.633129\n",
      "11  0.707328  0.876420  1.987677\n",
      "12  0.166332  0.469429  0.928358\n",
      "13 -0.623680  0.836721  0.714167\n",
      "14  0.343979  1.082933 -0.568775\n",
      "15  0.552392 -0.142854 -1.250470\n",
      "16 -0.159875  2.008648 -1.039473\n",
      "17 -0.507626  0.535460  1.457047\n",
      "18  0.060518 -1.479110 -1.020170\n",
      "19  0.045452  0.245712 -0.271321\n",
      "20 -0.740128  0.187304  1.153476\n"
     ]
    }
   ],
   "source": [
    "#seu código aqui\n",
    "# Nomeando as colunas e os índices do DataFrame\n",
    "df.index = range(1, 21)\n",
    "df.columns = ['x1', 'x2', 'x3']\n",
    "print(df)"
   ]
  },
  {
   "cell_type": "markdown",
   "metadata": {},
   "source": [
    "#### 6) No DataFrame do exercício 5, crie uma nova coluna como sendo a média das três colunas, e dê a ela o nome de \"media\" (não recomendo colocar acentos em nomes de variáveis)."
   ]
  },
  {
   "cell_type": "code",
   "execution_count": 23,
   "metadata": {},
   "outputs": [
    {
     "name": "stdout",
     "output_type": "stream",
     "text": [
      "          x1        x2        x3     media\n",
      "1   0.532381 -1.345329 -0.211733 -0.341560\n",
      "2   0.134557 -0.033358 -1.546800 -0.481867\n",
      "3   1.672722 -1.076166 -0.381525  0.071677\n",
      "4  -0.370650 -0.042485  1.129979  0.238948\n",
      "5   0.038073 -0.714844  1.674318  0.332515\n",
      "6  -0.981982  0.898660  2.562705  0.826461\n",
      "7   0.638933  0.253145 -0.512961  0.126372\n",
      "8  -1.280150  0.709175 -0.496554 -0.355843\n",
      "9  -0.482586 -1.013052 -0.177883 -0.557840\n",
      "10 -1.951410 -0.220120 -1.633129 -1.268219\n",
      "11  0.707328  0.876420  1.987677  1.190475\n",
      "12  0.166332  0.469429  0.928358  0.521373\n",
      "13 -0.623680  0.836721  0.714167  0.309069\n",
      "14  0.343979  1.082933 -0.568775  0.286046\n",
      "15  0.552392 -0.142854 -1.250470 -0.280311\n",
      "16 -0.159875  2.008648 -1.039473  0.269767\n",
      "17 -0.507626  0.535460  1.457047  0.494960\n",
      "18  0.060518 -1.479110 -1.020170 -0.812921\n",
      "19  0.045452  0.245712 -0.271321  0.006614\n",
      "20 -0.740128  0.187304  1.153476  0.200217\n"
     ]
    }
   ],
   "source": [
    "# seu código aqui\n",
    "# Criando a nova coluna\n",
    "df['media'] = df[['x1', 'x2', 'x3']].mean(axis=1)\n",
    "print(df)"
   ]
  },
  {
   "cell_type": "markdown",
   "metadata": {},
   "source": [
    "#### 7) No DataFrame do exercício 6, crie uma nova coluna chamada \"log_med\", contendo o logaritmo natural da média calculada no exercício 6 <br>"
   ]
  },
  {
   "cell_type": "code",
   "execution_count": 27,
   "metadata": {},
   "outputs": [
    {
     "name": "stdout",
     "output_type": "stream",
     "text": [
      "          x1        x2        x3     media   log_med\n",
      "1   0.532381 -1.345329 -0.211733 -0.341560       NaN\n",
      "2   0.134557 -0.033358 -1.546800 -0.481867       NaN\n",
      "3   1.672722 -1.076166 -0.381525  0.071677 -2.635586\n",
      "4  -0.370650 -0.042485  1.129979  0.238948 -1.431510\n",
      "5   0.038073 -0.714844  1.674318  0.332515 -1.101069\n",
      "6  -0.981982  0.898660  2.562705  0.826461 -0.190603\n",
      "7   0.638933  0.253145 -0.512961  0.126372 -2.068523\n",
      "8  -1.280150  0.709175 -0.496554 -0.355843       NaN\n",
      "9  -0.482586 -1.013052 -0.177883 -0.557840       NaN\n",
      "10 -1.951410 -0.220120 -1.633129 -1.268219       NaN\n",
      "11  0.707328  0.876420  1.987677  1.190475  0.174352\n",
      "12  0.166332  0.469429  0.928358  0.521373 -0.651289\n",
      "13 -0.623680  0.836721  0.714167  0.309069 -1.174190\n",
      "14  0.343979  1.082933 -0.568775  0.286046 -1.251604\n",
      "15  0.552392 -0.142854 -1.250470 -0.280311       NaN\n",
      "16 -0.159875  2.008648 -1.039473  0.269767 -1.310198\n",
      "17 -0.507626  0.535460  1.457047  0.494960 -0.703278\n",
      "18  0.060518 -1.479110 -1.020170 -0.812921       NaN\n",
      "19  0.045452  0.245712 -0.271321  0.006614 -5.018537\n",
      "20 -0.740128  0.187304  1.153476  0.200217 -1.608352\n"
     ]
    },
    {
     "name": "stderr",
     "output_type": "stream",
     "text": [
      "G:\\Anaconda\\Lib\\site-packages\\pandas\\core\\arraylike.py:396: RuntimeWarning: invalid value encountered in log\n",
      "  result = getattr(ufunc, method)(*inputs, **kwargs)\n"
     ]
    }
   ],
   "source": [
    "# seu código aqui\n",
    "# Criando a quarta coluna 'log_med'\n",
    "df['log_med'] = np.log(df['media'])\n",
    "print(df)"
   ]
  }
 ],
 "metadata": {
  "kernelspec": {
   "display_name": "Python 3 (ipykernel)",
   "language": "python",
   "name": "python3"
  },
  "language_info": {
   "codemirror_mode": {
    "name": "ipython",
    "version": 3
   },
   "file_extension": ".py",
   "mimetype": "text/x-python",
   "name": "python",
   "nbconvert_exporter": "python",
   "pygments_lexer": "ipython3",
   "version": "3.11.7"
  }
 },
 "nbformat": 4,
 "nbformat_minor": 4
}
